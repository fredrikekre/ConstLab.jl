{
 "cells": [
  {
   "outputs": [],
   "cell_type": "markdown",
   "source": [
    "# Von Mises Plasticity with Mixed Hardening\n",
    "\n",
    "\n",
    "Load packages"
   ],
   "metadata": {}
  },
  {
   "outputs": [],
   "cell_type": "code",
   "source": [
    "using Tensors\n",
    "import ConstLab\n",
    "using ConstLab: LinearElastic, LinearElasticState, StrainControl,\n",
    "      Plastic, PlasticState"
   ],
   "metadata": {},
   "execution_count": 1
  },
  {
   "outputs": [],
   "cell_type": "markdown",
   "source": [
    "## Define the strain control"
   ],
   "metadata": {}
  },
  {
   "outputs": [
    {
     "output_type": "execute_result",
     "data": {
      "text/plain": "0.0:0.03157379551346526:6.283185307179586"
     },
     "metadata": {},
     "execution_count": 2
    }
   ],
   "cell_type": "code",
   "source": [
    "σ_amp = 0.005\n",
    "ctrl = StrainControl((t) -> SymmetricTensor{2,3}((i,j) -> i == j == 1 ? σ_amp*sin(t) : 0.0))\n",
    "time = range(0.0, 2pi; length=200)"
   ],
   "metadata": {},
   "execution_count": 2
  },
  {
   "outputs": [],
   "cell_type": "markdown",
   "source": [
    "## Elastic model"
   ],
   "metadata": {}
  },
  {
   "outputs": [],
   "cell_type": "code",
   "source": [
    "# model = LinearElastic(2.0, 3.0)\n",
    "# s0 = LinearElasticState(zero(SymmetricTensor{2,3}), zero(SymmetricTensor{2,3}))\n",
    "# res = ConstLab.integrate(model, ctrl, time, s0)"
   ],
   "metadata": {},
   "execution_count": 3
  },
  {
   "outputs": [],
   "cell_type": "markdown",
   "source": [
    "## Set material parameters"
   ],
   "metadata": {}
  },
  {
   "outputs": [
    {
     "output_type": "execute_result",
     "data": {
      "text/plain": "ConstLab.Plastic(7.692307692307692e10, 1.6666666666666666e11, 2.0e8, 2.0e10, 4.0e7, 2.0e7, 0.5)"
     },
     "metadata": {},
     "execution_count": 4
    }
   ],
   "cell_type": "code",
   "source": [
    "E = 200.0e9\n",
    "ν =  0.3\n",
    "G = E/(2*(1+ν))\n",
    "K = E/(3*(1-2*ν))\n",
    "σ_y = 200.0e6\n",
    "H = 0.1*E\n",
    "κ∞ = 0.2*σ_y\n",
    "α∞ = 0.1*σ_y\n",
    "r = 0.5\n",
    "# σ_c = 0.1*E\n",
    "# t_star = 100.0\n",
    "# n = 1.5\n",
    "model = Plastic(G, K, σ_y, H, κ∞, α∞, r)"
   ],
   "metadata": {},
   "execution_count": 4
  },
  {
   "outputs": [],
   "cell_type": "markdown",
   "source": [
    "## Set initial conditions"
   ],
   "metadata": {}
  },
  {
   "outputs": [
    {
     "output_type": "execute_result",
     "data": {
      "text/plain": "ConstLab.PlasticState{3,6}([0.0 0.0 0.0; 0.0 0.0 0.0; 0.0 0.0 0.0], [0.0 0.0 0.0; 0.0 0.0 0.0; 0.0 0.0 0.0], 0.0, [0.0 0.0 0.0; 0.0 0.0 0.0; 0.0 0.0 0.0], 0.0)"
     },
     "metadata": {},
     "execution_count": 5
    }
   ],
   "cell_type": "code",
   "source": [
    "s0 = let z = zero(SymmetricTensor{2,3})\n",
    "    PlasticState(z, z, 0.0, z, 0.0)\n",
    "end"
   ],
   "metadata": {},
   "execution_count": 5
  },
  {
   "outputs": [],
   "cell_type": "markdown",
   "source": [
    "## Do integration"
   ],
   "metadata": {}
  },
  {
   "outputs": [],
   "cell_type": "code",
   "source": [
    "res = ConstLab.integrate(model, ctrl, time, s0; solver_params=Dict(:method => :newton));"
   ],
   "metadata": {},
   "execution_count": 6
  },
  {
   "outputs": [],
   "cell_type": "markdown",
   "source": [
    "## Plot results"
   ],
   "metadata": {}
  },
  {
   "outputs": [
    {
     "output_type": "execute_result",
     "data": {
      "text/plain": "mise (generic function with 1 method)"
     },
     "metadata": {},
     "execution_count": 7
    }
   ],
   "cell_type": "code",
   "source": [
    "using PGFPlotsX, LaTeXStrings\n",
    "\n",
    "push!(empty!(PGFPlotsX.CUSTOM_PREAMBLE), raw\"\\usepackage{amsmath}\")\n",
    "\n",
    "mise(s) = √(3/2) * norm(dev(s))"
   ],
   "metadata": {},
   "execution_count": 7
  },
  {
   "outputs": [],
   "cell_type": "markdown",
   "source": [
    "### deviatoric 1,1"
   ],
   "metadata": {}
  },
  {
   "outputs": [
    {
     "output_type": "execute_result",
     "data": {
      "text/plain": "PGFPlotsX.Axis(PGFPlotsX.Options(OrderedCollections.OrderedDict{Any,Any}(\"xlabel\" => L\"$\\varepsilon_{11}$\",\"ylabel\" => L\"$(\\boldsymbol{\\sigma}_\\mathrm{dev})_{11}$\"), true), Any[PGFPlotsX.Plot(false, true, PGFPlotsX.Options(OrderedCollections.OrderedDict{Any,Any}(\"mark\" => \"none\"), true), PGFPlotsX.Coordinates{2}(Union{Nothing, PGFPlotsX.Coordinate{2}}[PGFPlotsX.Coordinate{2}((0.0, 0.0), nothing, nothing, nothing, nothing), PGFPlotsX.Coordinate{2}((0.00015784274882405265, 1.6188999879390012e7), nothing, nothing, nothing, nothing), PGFPlotsX.Coordinate{2}((0.00031552815656336826, 3.2361862211627506e7), nothing, nothing, nothing, nothing), PGFPlotsX.Coordinate{2}((0.0004728990389742247, 4.850246553581792e7), nothing, nothing, nothing, nothing), PGFPlotsX.Coordinate{2}((0.0006297985253385878, 6.4594720547547475e7), nothing, nothing, nothing, nothing), PGFPlotsX.Coordinate{2}((0.0007860702148362539, 8.062258613705166e7), nothing, nothing, nothing, nothing), PGFPlotsX.Coordinate{2}((0.0009415583324485894, 9.657008537934247e7), nothing, nothing, nothing, nothing), PGFPlotsX.Coordinate{2}((0.0010961078842384568, 1.1242132146035454e8), nothing, nothing, nothing, nothing), PGFPlotsX.Coordinate{2}((0.0012495648118515418, 1.2816049352323505e8), nothing, nothing, nothing, nothing), PGFPlotsX.Coordinate{2}((0.001401776146085072, 1.3414830944566908e8), nothing, nothing, nothing, nothing)  …  PGFPlotsX.Coordinate{2}((-0.0014017761460850718, 1.4848954400471073e8), nothing, nothing, nothing, nothing), PGFPlotsX.Coordinate{2}((-0.001249564811851544, 1.4951636997658828e8), nothing, nothing, nothing, nothing), PGFPlotsX.Coordinate{2}((-0.0010961078842384572, 1.505093952675193e8), nothing, nothing, nothing, nothing), PGFPlotsX.Coordinate{2}((-0.0009415583324485924, 1.5146826365501317e8), nothing, nothing, nothing, nothing), PGFPlotsX.Coordinate{2}((-0.0007860702148362553, 1.523927912854545e8), nothing, nothing, nothing, nothing), PGFPlotsX.Coordinate{2}((-0.0006297985253385874, 1.532829540153701e8), nothing, nothing, nothing, nothing), PGFPlotsX.Coordinate{2}((-0.00047289903897422694, 1.5413887442094013e8), nothing, nothing, nothing, nothing), PGFPlotsX.Coordinate{2}((-0.0003155281565633686, 1.5496080865378803e8), nothing, nothing, nothing, nothing), PGFPlotsX.Coordinate{2}((-0.00015784274882405566, 1.5574913330698124e8), nothing, nothing, nothing, nothing), PGFPlotsX.Coordinate{2}((-1.2246467991473532e-18, 1.5650433243935978e8), nothing, nothing, nothing, nothing)]), Any[])])"
     },
     "metadata": {},
     "execution_count": 8
    }
   ],
   "cell_type": "code",
   "source": [
    "p = @pgf Axis({xlabel=L\"\\varepsilon_{11}\", ylabel=L\"(\\boldsymbol{\\sigma}_\\mathrm{dev})_{11}\"},\n",
    "    PlotInc({mark=\"none\"},\n",
    "        Coordinates([r.ε[1,1] for r in res],\n",
    "                    [dev(r.σ)[1,1] for r in res])\n",
    "    ),\n",
    ")"
   ],
   "metadata": {},
   "execution_count": 8
  },
  {
   "outputs": [],
   "cell_type": "markdown",
   "source": [
    "### vonMises"
   ],
   "metadata": {}
  },
  {
   "outputs": [
    {
     "output_type": "execute_result",
     "data": {
      "text/plain": "PGFPlotsX.Axis(PGFPlotsX.Options(OrderedCollections.OrderedDict{Any,Any}(\"xlabel\" => L\"$\\varepsilon_{11}$\",\"ylabel\" => L\"$\\sigma_\\mathrm{e}^\\mathrm{vM}$\"), true), Any[PGFPlotsX.Plot(false, true, PGFPlotsX.Options(OrderedCollections.OrderedDict{Any,Any}(\"mark\" => \"none\"), true), PGFPlotsX.Coordinates{2}(Union{Nothing, PGFPlotsX.Coordinate{2}}[PGFPlotsX.Coordinate{2}((0.0, 0.0), nothing, nothing, nothing, nothing), PGFPlotsX.Coordinate{2}((0.00015784274882405265, 2.4283499819085013e7), nothing, nothing, nothing, nothing), PGFPlotsX.Coordinate{2}((0.00031552815656336826, 4.854279331744126e7), nothing, nothing, nothing, nothing), PGFPlotsX.Coordinate{2}((0.0004728990389742247, 7.275369830372687e7), nothing, nothing, nothing, nothing), PGFPlotsX.Coordinate{2}((0.0006297985253385878, 9.68920808213212e7), nothing, nothing, nothing, nothing), PGFPlotsX.Coordinate{2}((0.0007860702148362539, 1.209338792055775e8), nothing, nothing, nothing, nothing), PGFPlotsX.Coordinate{2}((0.0009415583324485894, 1.448551280690137e8), nothing, nothing, nothing, nothing), PGFPlotsX.Coordinate{2}((0.0010961078842384568, 1.686319821905318e8), nothing, nothing, nothing, nothing), PGFPlotsX.Coordinate{2}((0.0012495648118515418, 1.9224074028485256e8), nothing, nothing, nothing, nothing), PGFPlotsX.Coordinate{2}((0.001401776146085072, 2.0122246416850364e8), nothing, nothing, nothing, nothing)  …  PGFPlotsX.Coordinate{2}((-0.0014017761460850718, 2.2273431600706604e8), nothing, nothing, nothing, nothing), PGFPlotsX.Coordinate{2}((-0.001249564811851544, 2.242745549648824e8), nothing, nothing, nothing, nothing), PGFPlotsX.Coordinate{2}((-0.0010961078842384572, 2.257640929012789e8), nothing, nothing, nothing, nothing), PGFPlotsX.Coordinate{2}((-0.0009415583324485924, 2.2720239548251972e8), nothing, nothing, nothing, nothing), PGFPlotsX.Coordinate{2}((-0.0007860702148362553, 2.285891869281817e8), nothing, nothing, nothing, nothing), PGFPlotsX.Coordinate{2}((-0.0006297985253385874, 2.2992443102305514e8), nothing, nothing, nothing, nothing), PGFPlotsX.Coordinate{2}((-0.00047289903897422694, 2.3120831163141015e8), nothing, nothing, nothing, nothing), PGFPlotsX.Coordinate{2}((-0.0003155281565633686, 2.3244121298068202e8), nothing, nothing, nothing, nothing), PGFPlotsX.Coordinate{2}((-0.00015784274882405566, 2.3362369996047184e8), nothing, nothing, nothing, nothing), PGFPlotsX.Coordinate{2}((-1.2246467991473532e-18, 2.3475649865903965e8), nothing, nothing, nothing, nothing)]), Any[])])"
     },
     "metadata": {},
     "execution_count": 9
    }
   ],
   "cell_type": "code",
   "source": [
    "p = @pgf Axis({xlabel=L\"\\varepsilon_{11}\", ylabel=L\"\\sigma_\\mathrm{e}^\\mathrm{vM}\"},\n",
    "    PlotInc({mark=\"none\"},\n",
    "        Coordinates([r.ε[1,1] for r in res],\n",
    "                    [mise(r.σ) for r in res])\n",
    "    ),\n",
    ")"
   ],
   "metadata": {},
   "execution_count": 9
  },
  {
   "outputs": [],
   "cell_type": "markdown",
   "source": [
    "*This notebook was generated using [Literate.jl](https://github.com/fredrikekre/Literate.jl).*"
   ],
   "metadata": {}
  }
 ],
 "nbformat_minor": 3,
 "metadata": {
  "language_info": {
   "file_extension": ".jl",
   "mimetype": "application/julia",
   "name": "julia",
   "version": "1.2.0"
  },
  "kernelspec": {
   "name": "julia-1.2",
   "display_name": "Julia 1.2.0",
   "language": "julia"
  }
 },
 "nbformat": 4
}
